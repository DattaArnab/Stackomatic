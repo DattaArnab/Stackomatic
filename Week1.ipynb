{
 "cells": [
  {
   "cell_type": "code",
   "execution_count": 1,
   "id": "cd38f629",
   "metadata": {},
   "outputs": [],
   "source": [
    "import numpy as np\n",
    "import pandas as pd"
   ]
  },
  {
   "cell_type": "code",
   "execution_count": 2,
   "id": "fc96ff71-eefc-4396-9ec7-8f3ff27be12d",
   "metadata": {},
   "outputs": [],
   "source": [
    "df=pd.read_csv(\"california_housing_train.csv\")"
   ]
  },
  {
   "cell_type": "code",
   "execution_count": 3,
   "id": "9d3c0a2f-a426-4556-987d-4f4ee87d20fc",
   "metadata": {},
   "outputs": [
    {
     "name": "stdout",
     "output_type": "stream",
     "text": [
      "First 5:\n",
      "    longitude  latitude  housing_median_age  total_rooms  total_bedrooms  \\\n",
      "0    -114.31     34.19                15.0       5612.0          1283.0   \n",
      "1    -114.47     34.40                19.0       7650.0          1901.0   \n",
      "2    -114.56     33.69                17.0        720.0           174.0   \n",
      "3    -114.57     33.64                14.0       1501.0           337.0   \n",
      "4    -114.57     33.57                20.0       1454.0           326.0   \n",
      "\n",
      "   population  households  median_income  median_house_value  \n",
      "0      1015.0       472.0         1.4936             66900.0  \n",
      "1      1129.0       463.0         1.8200             80100.0  \n",
      "2       333.0       117.0         1.6509             85700.0  \n",
      "3       515.0       226.0         3.1917             73400.0  \n",
      "4       624.0       262.0         1.9250             65500.0   \n",
      "\n",
      "\n",
      "Last 10:\n",
      "        longitude  latitude  housing_median_age  total_rooms  total_bedrooms  \\\n",
      "16990    -124.22     41.73                28.0       3003.0           699.0   \n",
      "16991    -124.23     41.75                11.0       3159.0           616.0   \n",
      "16992    -124.23     40.81                52.0       1112.0           209.0   \n",
      "16993    -124.23     40.54                52.0       2694.0           453.0   \n",
      "16994    -124.25     40.28                32.0       1430.0           419.0   \n",
      "16995    -124.26     40.58                52.0       2217.0           394.0   \n",
      "16996    -124.27     40.69                36.0       2349.0           528.0   \n",
      "16997    -124.30     41.84                17.0       2677.0           531.0   \n",
      "16998    -124.30     41.80                19.0       2672.0           552.0   \n",
      "16999    -124.35     40.54                52.0       1820.0           300.0   \n",
      "\n",
      "       population  households  median_income  median_house_value  \n",
      "16990      1530.0       653.0         1.7038             78300.0  \n",
      "16991      1343.0       479.0         2.4805             73200.0  \n",
      "16992       544.0       172.0         3.3462             50800.0  \n",
      "16993      1152.0       435.0         3.0806            106700.0  \n",
      "16994       434.0       187.0         1.9417             76100.0  \n",
      "16995       907.0       369.0         2.3571            111400.0  \n",
      "16996      1194.0       465.0         2.5179             79000.0  \n",
      "16997      1244.0       456.0         3.0313            103600.0  \n",
      "16998      1298.0       478.0         1.9797             85800.0  \n",
      "16999       806.0       270.0         3.0147             94600.0  \n"
     ]
    }
   ],
   "source": [
    "print(\"First 5:\\n\",df.head(5),\"\\n\\n\\nLast 10:\\n\",df.tail(10))"
   ]
  },
  {
   "cell_type": "code",
   "execution_count": 4,
   "id": "959e0251-808f-4274-aee7-fb9c871b17dc",
   "metadata": {},
   "outputs": [
    {
     "data": {
      "text/html": [
       "<div>\n",
       "<style scoped>\n",
       "    .dataframe tbody tr th:only-of-type {\n",
       "        vertical-align: middle;\n",
       "    }\n",
       "\n",
       "    .dataframe tbody tr th {\n",
       "        vertical-align: top;\n",
       "    }\n",
       "\n",
       "    .dataframe thead th {\n",
       "        text-align: right;\n",
       "    }\n",
       "</style>\n",
       "<table border=\"1\" class=\"dataframe\">\n",
       "  <thead>\n",
       "    <tr style=\"text-align: right;\">\n",
       "      <th></th>\n",
       "      <th>longitude</th>\n",
       "      <th>latitude</th>\n",
       "      <th>housing_median_age</th>\n",
       "      <th>total_rooms</th>\n",
       "      <th>total_bedrooms</th>\n",
       "      <th>population</th>\n",
       "      <th>households</th>\n",
       "      <th>median_income</th>\n",
       "      <th>median_house_value</th>\n",
       "    </tr>\n",
       "  </thead>\n",
       "  <tbody>\n",
       "    <tr>\n",
       "      <th>count</th>\n",
       "      <td>17000.000000</td>\n",
       "      <td>17000.000000</td>\n",
       "      <td>17000.000000</td>\n",
       "      <td>17000.000000</td>\n",
       "      <td>17000.000000</td>\n",
       "      <td>17000.000000</td>\n",
       "      <td>17000.000000</td>\n",
       "      <td>17000.000000</td>\n",
       "      <td>17000.000000</td>\n",
       "    </tr>\n",
       "    <tr>\n",
       "      <th>mean</th>\n",
       "      <td>-119.562108</td>\n",
       "      <td>35.625225</td>\n",
       "      <td>28.589353</td>\n",
       "      <td>2643.664412</td>\n",
       "      <td>539.410824</td>\n",
       "      <td>1429.573941</td>\n",
       "      <td>501.221941</td>\n",
       "      <td>3.883578</td>\n",
       "      <td>207300.912353</td>\n",
       "    </tr>\n",
       "    <tr>\n",
       "      <th>std</th>\n",
       "      <td>2.005166</td>\n",
       "      <td>2.137340</td>\n",
       "      <td>12.586937</td>\n",
       "      <td>2179.947071</td>\n",
       "      <td>421.499452</td>\n",
       "      <td>1147.852959</td>\n",
       "      <td>384.520841</td>\n",
       "      <td>1.908157</td>\n",
       "      <td>115983.764387</td>\n",
       "    </tr>\n",
       "    <tr>\n",
       "      <th>min</th>\n",
       "      <td>-124.350000</td>\n",
       "      <td>32.540000</td>\n",
       "      <td>1.000000</td>\n",
       "      <td>2.000000</td>\n",
       "      <td>1.000000</td>\n",
       "      <td>3.000000</td>\n",
       "      <td>1.000000</td>\n",
       "      <td>0.499900</td>\n",
       "      <td>14999.000000</td>\n",
       "    </tr>\n",
       "    <tr>\n",
       "      <th>25%</th>\n",
       "      <td>-121.790000</td>\n",
       "      <td>33.930000</td>\n",
       "      <td>18.000000</td>\n",
       "      <td>1462.000000</td>\n",
       "      <td>297.000000</td>\n",
       "      <td>790.000000</td>\n",
       "      <td>282.000000</td>\n",
       "      <td>2.566375</td>\n",
       "      <td>119400.000000</td>\n",
       "    </tr>\n",
       "    <tr>\n",
       "      <th>50%</th>\n",
       "      <td>-118.490000</td>\n",
       "      <td>34.250000</td>\n",
       "      <td>29.000000</td>\n",
       "      <td>2127.000000</td>\n",
       "      <td>434.000000</td>\n",
       "      <td>1167.000000</td>\n",
       "      <td>409.000000</td>\n",
       "      <td>3.544600</td>\n",
       "      <td>180400.000000</td>\n",
       "    </tr>\n",
       "    <tr>\n",
       "      <th>75%</th>\n",
       "      <td>-118.000000</td>\n",
       "      <td>37.720000</td>\n",
       "      <td>37.000000</td>\n",
       "      <td>3151.250000</td>\n",
       "      <td>648.250000</td>\n",
       "      <td>1721.000000</td>\n",
       "      <td>605.250000</td>\n",
       "      <td>4.767000</td>\n",
       "      <td>265000.000000</td>\n",
       "    </tr>\n",
       "    <tr>\n",
       "      <th>max</th>\n",
       "      <td>-114.310000</td>\n",
       "      <td>41.950000</td>\n",
       "      <td>52.000000</td>\n",
       "      <td>37937.000000</td>\n",
       "      <td>6445.000000</td>\n",
       "      <td>35682.000000</td>\n",
       "      <td>6082.000000</td>\n",
       "      <td>15.000100</td>\n",
       "      <td>500001.000000</td>\n",
       "    </tr>\n",
       "  </tbody>\n",
       "</table>\n",
       "</div>"
      ],
      "text/plain": [
       "          longitude      latitude  housing_median_age   total_rooms  \\\n",
       "count  17000.000000  17000.000000        17000.000000  17000.000000   \n",
       "mean    -119.562108     35.625225           28.589353   2643.664412   \n",
       "std        2.005166      2.137340           12.586937   2179.947071   \n",
       "min     -124.350000     32.540000            1.000000      2.000000   \n",
       "25%     -121.790000     33.930000           18.000000   1462.000000   \n",
       "50%     -118.490000     34.250000           29.000000   2127.000000   \n",
       "75%     -118.000000     37.720000           37.000000   3151.250000   \n",
       "max     -114.310000     41.950000           52.000000  37937.000000   \n",
       "\n",
       "       total_bedrooms    population    households  median_income  \\\n",
       "count    17000.000000  17000.000000  17000.000000   17000.000000   \n",
       "mean       539.410824   1429.573941    501.221941       3.883578   \n",
       "std        421.499452   1147.852959    384.520841       1.908157   \n",
       "min          1.000000      3.000000      1.000000       0.499900   \n",
       "25%        297.000000    790.000000    282.000000       2.566375   \n",
       "50%        434.000000   1167.000000    409.000000       3.544600   \n",
       "75%        648.250000   1721.000000    605.250000       4.767000   \n",
       "max       6445.000000  35682.000000   6082.000000      15.000100   \n",
       "\n",
       "       median_house_value  \n",
       "count        17000.000000  \n",
       "mean        207300.912353  \n",
       "std         115983.764387  \n",
       "min          14999.000000  \n",
       "25%         119400.000000  \n",
       "50%         180400.000000  \n",
       "75%         265000.000000  \n",
       "max         500001.000000  "
      ]
     },
     "execution_count": 4,
     "metadata": {},
     "output_type": "execute_result"
    }
   ],
   "source": [
    "df.describe()"
   ]
  },
  {
   "cell_type": "code",
   "execution_count": 5,
   "id": "8f74464e-72ec-4c9d-99f6-55460269badf",
   "metadata": {},
   "outputs": [
    {
     "data": {
      "text/plain": [
       "total_bedrooms\n",
       "280.0     48\n",
       "309.0     44\n",
       "345.0     43\n",
       "331.0     43\n",
       "343.0     43\n",
       "          ..\n",
       "1821.0     1\n",
       "4171.0     1\n",
       "1508.0     1\n",
       "1647.0     1\n",
       "4335.0     1\n",
       "Name: count, Length: 1848, dtype: int64"
      ]
     },
     "execution_count": 5,
     "metadata": {},
     "output_type": "execute_result"
    }
   ],
   "source": [
    "df[\"total_bedrooms\"].value_counts(dropna=True)"
   ]
  },
  {
   "cell_type": "code",
   "execution_count": 6,
   "id": "b937da6e-bd23-4535-89d0-9bd4cd2515a9",
   "metadata": {},
   "outputs": [
    {
     "data": {
      "text/plain": [
       "1848"
      ]
     },
     "execution_count": 6,
     "metadata": {},
     "output_type": "execute_result"
    }
   ],
   "source": [
    "len(df[\"total_bedrooms\"].value_counts(dropna=True))"
   ]
  },
  {
   "cell_type": "code",
   "execution_count": 7,
   "id": "966d2563-2996-45fa-8d17-9cdab96fdc2a",
   "metadata": {},
   "outputs": [],
   "source": [
    "df.loc[:,\"total_bedrooms_per_total_rooms\"]=df.loc[:,\"total_bedrooms\"]/df.loc[:,\"total_rooms\"]"
   ]
  },
  {
   "cell_type": "code",
   "execution_count": 8,
   "id": "42ee3ba7-ff55-4cc4-be9a-74db6e4adf5d",
   "metadata": {},
   "outputs": [
    {
     "data": {
      "text/html": [
       "<div>\n",
       "<style scoped>\n",
       "    .dataframe tbody tr th:only-of-type {\n",
       "        vertical-align: middle;\n",
       "    }\n",
       "\n",
       "    .dataframe tbody tr th {\n",
       "        vertical-align: top;\n",
       "    }\n",
       "\n",
       "    .dataframe thead th {\n",
       "        text-align: right;\n",
       "    }\n",
       "</style>\n",
       "<table border=\"1\" class=\"dataframe\">\n",
       "  <thead>\n",
       "    <tr style=\"text-align: right;\">\n",
       "      <th></th>\n",
       "      <th>longitude</th>\n",
       "      <th>latitude</th>\n",
       "      <th>housing_median_age</th>\n",
       "      <th>total_rooms</th>\n",
       "      <th>total_bedrooms</th>\n",
       "      <th>population</th>\n",
       "      <th>households</th>\n",
       "      <th>median_income</th>\n",
       "      <th>median_house_value</th>\n",
       "      <th>total_bedrooms_per_total_rooms</th>\n",
       "    </tr>\n",
       "  </thead>\n",
       "  <tbody>\n",
       "    <tr>\n",
       "      <th>32</th>\n",
       "      <td>-115.39</td>\n",
       "      <td>32.76</td>\n",
       "      <td>16.0</td>\n",
       "      <td>1136.0</td>\n",
       "      <td>196.0</td>\n",
       "      <td>481.0</td>\n",
       "      <td>185.0</td>\n",
       "      <td>6.2558</td>\n",
       "      <td>146300.0</td>\n",
       "      <td>0.172535</td>\n",
       "    </tr>\n",
       "    <tr>\n",
       "      <th>69</th>\n",
       "      <td>-115.55</td>\n",
       "      <td>32.98</td>\n",
       "      <td>33.0</td>\n",
       "      <td>2266.0</td>\n",
       "      <td>365.0</td>\n",
       "      <td>952.0</td>\n",
       "      <td>360.0</td>\n",
       "      <td>5.4349</td>\n",
       "      <td>143000.0</td>\n",
       "      <td>0.161077</td>\n",
       "    </tr>\n",
       "    <tr>\n",
       "      <th>92</th>\n",
       "      <td>-115.57</td>\n",
       "      <td>32.78</td>\n",
       "      <td>20.0</td>\n",
       "      <td>1534.0</td>\n",
       "      <td>235.0</td>\n",
       "      <td>871.0</td>\n",
       "      <td>222.0</td>\n",
       "      <td>6.2715</td>\n",
       "      <td>97200.0</td>\n",
       "      <td>0.153194</td>\n",
       "    </tr>\n",
       "    <tr>\n",
       "      <th>98</th>\n",
       "      <td>-115.58</td>\n",
       "      <td>32.78</td>\n",
       "      <td>5.0</td>\n",
       "      <td>2494.0</td>\n",
       "      <td>414.0</td>\n",
       "      <td>1416.0</td>\n",
       "      <td>421.0</td>\n",
       "      <td>5.7843</td>\n",
       "      <td>110100.0</td>\n",
       "      <td>0.165998</td>\n",
       "    </tr>\n",
       "    <tr>\n",
       "      <th>100</th>\n",
       "      <td>-115.59</td>\n",
       "      <td>32.79</td>\n",
       "      <td>8.0</td>\n",
       "      <td>2183.0</td>\n",
       "      <td>307.0</td>\n",
       "      <td>1000.0</td>\n",
       "      <td>287.0</td>\n",
       "      <td>6.3814</td>\n",
       "      <td>159900.0</td>\n",
       "      <td>0.140632</td>\n",
       "    </tr>\n",
       "    <tr>\n",
       "      <th>...</th>\n",
       "      <td>...</td>\n",
       "      <td>...</td>\n",
       "      <td>...</td>\n",
       "      <td>...</td>\n",
       "      <td>...</td>\n",
       "      <td>...</td>\n",
       "      <td>...</td>\n",
       "      <td>...</td>\n",
       "      <td>...</td>\n",
       "      <td>...</td>\n",
       "    </tr>\n",
       "    <tr>\n",
       "      <th>16737</th>\n",
       "      <td>-122.89</td>\n",
       "      <td>38.38</td>\n",
       "      <td>16.0</td>\n",
       "      <td>2017.0</td>\n",
       "      <td>369.0</td>\n",
       "      <td>931.0</td>\n",
       "      <td>336.0</td>\n",
       "      <td>5.7664</td>\n",
       "      <td>267500.0</td>\n",
       "      <td>0.182945</td>\n",
       "    </tr>\n",
       "    <tr>\n",
       "      <th>16762</th>\n",
       "      <td>-122.94</td>\n",
       "      <td>38.57</td>\n",
       "      <td>33.0</td>\n",
       "      <td>1530.0</td>\n",
       "      <td>266.0</td>\n",
       "      <td>728.0</td>\n",
       "      <td>250.0</td>\n",
       "      <td>5.1005</td>\n",
       "      <td>266700.0</td>\n",
       "      <td>0.173856</td>\n",
       "    </tr>\n",
       "    <tr>\n",
       "      <th>16776</th>\n",
       "      <td>-123.00</td>\n",
       "      <td>38.33</td>\n",
       "      <td>8.0</td>\n",
       "      <td>3223.0</td>\n",
       "      <td>637.0</td>\n",
       "      <td>851.0</td>\n",
       "      <td>418.0</td>\n",
       "      <td>5.6445</td>\n",
       "      <td>364800.0</td>\n",
       "      <td>0.197642</td>\n",
       "    </tr>\n",
       "    <tr>\n",
       "      <th>16802</th>\n",
       "      <td>-123.17</td>\n",
       "      <td>39.18</td>\n",
       "      <td>14.0</td>\n",
       "      <td>2240.0</td>\n",
       "      <td>327.0</td>\n",
       "      <td>1030.0</td>\n",
       "      <td>308.0</td>\n",
       "      <td>5.9585</td>\n",
       "      <td>214900.0</td>\n",
       "      <td>0.145982</td>\n",
       "    </tr>\n",
       "    <tr>\n",
       "      <th>16899</th>\n",
       "      <td>-124.05</td>\n",
       "      <td>40.94</td>\n",
       "      <td>14.0</td>\n",
       "      <td>1452.0</td>\n",
       "      <td>217.0</td>\n",
       "      <td>516.0</td>\n",
       "      <td>181.0</td>\n",
       "      <td>5.0329</td>\n",
       "      <td>165600.0</td>\n",
       "      <td>0.149449</td>\n",
       "    </tr>\n",
       "  </tbody>\n",
       "</table>\n",
       "<p>3752 rows × 10 columns</p>\n",
       "</div>"
      ],
      "text/plain": [
       "       longitude  latitude  housing_median_age  total_rooms  total_bedrooms  \\\n",
       "32       -115.39     32.76                16.0       1136.0           196.0   \n",
       "69       -115.55     32.98                33.0       2266.0           365.0   \n",
       "92       -115.57     32.78                20.0       1534.0           235.0   \n",
       "98       -115.58     32.78                 5.0       2494.0           414.0   \n",
       "100      -115.59     32.79                 8.0       2183.0           307.0   \n",
       "...          ...       ...                 ...          ...             ...   \n",
       "16737    -122.89     38.38                16.0       2017.0           369.0   \n",
       "16762    -122.94     38.57                33.0       1530.0           266.0   \n",
       "16776    -123.00     38.33                 8.0       3223.0           637.0   \n",
       "16802    -123.17     39.18                14.0       2240.0           327.0   \n",
       "16899    -124.05     40.94                14.0       1452.0           217.0   \n",
       "\n",
       "       population  households  median_income  median_house_value  \\\n",
       "32          481.0       185.0         6.2558            146300.0   \n",
       "69          952.0       360.0         5.4349            143000.0   \n",
       "92          871.0       222.0         6.2715             97200.0   \n",
       "98         1416.0       421.0         5.7843            110100.0   \n",
       "100        1000.0       287.0         6.3814            159900.0   \n",
       "...           ...         ...            ...                 ...   \n",
       "16737       931.0       336.0         5.7664            267500.0   \n",
       "16762       728.0       250.0         5.1005            266700.0   \n",
       "16776       851.0       418.0         5.6445            364800.0   \n",
       "16802      1030.0       308.0         5.9585            214900.0   \n",
       "16899       516.0       181.0         5.0329            165600.0   \n",
       "\n",
       "       total_bedrooms_per_total_rooms  \n",
       "32                           0.172535  \n",
       "69                           0.161077  \n",
       "92                           0.153194  \n",
       "98                           0.165998  \n",
       "100                          0.140632  \n",
       "...                               ...  \n",
       "16737                        0.182945  \n",
       "16762                        0.173856  \n",
       "16776                        0.197642  \n",
       "16802                        0.145982  \n",
       "16899                        0.149449  \n",
       "\n",
       "[3752 rows x 10 columns]"
      ]
     },
     "execution_count": 8,
     "metadata": {},
     "output_type": "execute_result"
    }
   ],
   "source": [
    "df.loc[(df.loc[:,\"median_income\"]>5),:]"
   ]
  },
  {
   "cell_type": "code",
   "execution_count": 9,
   "id": "917ee6e2-7239-4c9f-ab5d-735de87d6a5a",
   "metadata": {},
   "outputs": [
    {
     "name": "stdout",
     "output_type": "stream",
     "text": [
      "       longitude  latitude  housing_median_age  total_rooms  total_bedrooms  \\\n",
      "133      -116.06     34.15                15.0      10377.0          2331.0   \n",
      "191      -116.36     33.88                11.0      12557.0          3098.0   \n",
      "198      -116.38     33.73                10.0      11836.0          2405.0   \n",
      "201      -116.39     33.82                15.0      11115.0          2257.0   \n",
      "229      -116.47     33.81                 7.0      10105.0          2481.0   \n",
      "...          ...       ...                 ...          ...             ...   \n",
      "12654    -121.75     38.67                 9.0      12139.0          2640.0   \n",
      "12772    -121.79     36.64                11.0      32627.0          6445.0   \n",
      "13388    -121.94     38.27                35.0      10869.0          2226.0   \n",
      "13707    -122.00     38.25                 7.0      11768.0          1893.0   \n",
      "15436    -122.31     40.55                11.0      13714.0          2302.0   \n",
      "\n",
      "       population  households  median_income  median_house_value  \\\n",
      "133        4507.0      1807.0         2.2466             66800.0   \n",
      "191        2453.0      1232.0         1.7844             78500.0   \n",
      "198        3811.0      1570.0         4.0079            134500.0   \n",
      "201        4122.0      1653.0         2.7219             74400.0   \n",
      "229        6274.0      2095.0         2.4497             90900.0   \n",
      "...           ...         ...            ...                 ...   \n",
      "12654      6837.0      2358.0         3.1250            132500.0   \n",
      "12772     28566.0      6082.0         2.3087            118800.0   \n",
      "13388      9879.0      2152.0         2.5681             81300.0   \n",
      "13707      6657.0      1874.0         4.9222            142900.0   \n",
      "15436      6511.0      2267.0         3.5522            100100.0   \n",
      "\n",
      "       total_bedrooms_per_total_rooms  \n",
      "133                          0.224631  \n",
      "191                          0.246715  \n",
      "198                          0.203194  \n",
      "201                          0.203059  \n",
      "229                          0.245522  \n",
      "...                               ...  \n",
      "12654                        0.217481  \n",
      "12772                        0.197536  \n",
      "13388                        0.204803  \n",
      "13707                        0.160860  \n",
      "15436                        0.167858  \n",
      "\n",
      "[67 rows x 10 columns]\n"
     ]
    }
   ],
   "source": [
    "subset=df.loc[(df.loc[:,\"total_rooms\"]>10000) & (df.loc[:,\"median_house_value\"]<150000),:]\n",
    "print(subset)"
   ]
  },
  {
   "cell_type": "code",
   "execution_count": 10,
   "id": "d2e735c8-1f3e-431e-b23e-0709fcd067bd",
   "metadata": {},
   "outputs": [],
   "source": [
    "df.to_csv(\"california_housing_train_modified.csv\",index=False)"
   ]
  },
  {
   "cell_type": "code",
   "execution_count": 11,
   "id": "3ccc6d63-e1cb-4551-9322-ae82093787af",
   "metadata": {},
   "outputs": [],
   "source": [
    "integers = np.arange(1,21)"
   ]
  },
  {
   "cell_type": "code",
   "execution_count": 12,
   "id": "fdaf6e6f-2213-43e0-8555-05d373970088",
   "metadata": {},
   "outputs": [
    {
     "data": {
      "text/plain": [
       "array([ 1,  2,  3,  4,  5,  6,  7,  8,  9, 10, 11, 12, 13, 14, 15, 16, 17,\n",
       "       18, 19, 20])"
      ]
     },
     "execution_count": 12,
     "metadata": {},
     "output_type": "execute_result"
    }
   ],
   "source": [
    "integers"
   ]
  },
  {
   "cell_type": "code",
   "execution_count": 13,
   "id": "848fd348-a8ca-491e-8e27-50791b4feaa5",
   "metadata": {},
   "outputs": [],
   "source": [
    "even_no=integers[1: : 2]"
   ]
  },
  {
   "cell_type": "code",
   "execution_count": 14,
   "id": "1bda1a4c-9c97-4f21-bee0-5155e37db9ff",
   "metadata": {},
   "outputs": [
    {
     "data": {
      "text/plain": [
       "array([ 2,  4,  6,  8, 10, 12, 14, 16, 18, 20])"
      ]
     },
     "execution_count": 14,
     "metadata": {},
     "output_type": "execute_result"
    }
   ],
   "source": [
    "even_no"
   ]
  },
  {
   "cell_type": "code",
   "execution_count": 15,
   "id": "54f99a20-cf2e-499e-ae4a-a32ea57b4084",
   "metadata": {},
   "outputs": [],
   "source": [
    "rand_array=np.random.randint(10,101,(5,4))"
   ]
  },
  {
   "cell_type": "code",
   "execution_count": 16,
   "id": "6075844c-4223-438b-88fe-f99de7a3cd3f",
   "metadata": {},
   "outputs": [
    {
     "data": {
      "text/plain": [
       "array([[33, 61, 66, 76],\n",
       "       [42, 99, 42, 64],\n",
       "       [83, 49, 45, 71],\n",
       "       [79, 34, 60, 60],\n",
       "       [24, 87, 86, 50]], dtype=int32)"
      ]
     },
     "execution_count": 16,
     "metadata": {},
     "output_type": "execute_result"
    }
   ],
   "source": [
    "rand_array"
   ]
  },
  {
   "cell_type": "code",
   "execution_count": 17,
   "id": "ca4a575a-4502-4e07-8340-bcf396df2e8e",
   "metadata": {},
   "outputs": [
    {
     "data": {
      "text/plain": [
       "array([[33, 61],\n",
       "       [42, 99],\n",
       "       [83, 49]], dtype=int32)"
      ]
     },
     "execution_count": 17,
     "metadata": {},
     "output_type": "execute_result"
    }
   ],
   "source": [
    "rand_array[:3,:2]"
   ]
  },
  {
   "cell_type": "code",
   "execution_count": 18,
   "id": "e1a83adc-2941-49be-9019-a072a354c867",
   "metadata": {},
   "outputs": [],
   "source": [
    "integers.resize(4,5)"
   ]
  },
  {
   "cell_type": "code",
   "execution_count": 19,
   "id": "e14ad2f8-28d2-45bf-9c30-6adab730ffcb",
   "metadata": {},
   "outputs": [
    {
     "data": {
      "text/plain": [
       "array([[ 1,  2,  3,  4,  5],\n",
       "       [ 6,  7,  8,  9, 10],\n",
       "       [11, 12, 13, 14, 15],\n",
       "       [16, 17, 18, 19, 20]])"
      ]
     },
     "execution_count": 19,
     "metadata": {},
     "output_type": "execute_result"
    }
   ],
   "source": [
    "integers"
   ]
  },
  {
   "cell_type": "code",
   "execution_count": 20,
   "id": "6c3f49d3-ddc9-471a-ac30-6651b0718de3",
   "metadata": {},
   "outputs": [],
   "source": [
    "integers=integers.flatten()"
   ]
  },
  {
   "cell_type": "code",
   "execution_count": 21,
   "id": "981dd555-e384-45ac-904f-482acbaa6365",
   "metadata": {},
   "outputs": [
    {
     "data": {
      "text/plain": [
       "array([ 1,  2,  3,  4,  5,  6,  7,  8,  9, 10, 11, 12, 13, 14, 15, 16, 17,\n",
       "       18, 19, 20])"
      ]
     },
     "execution_count": 21,
     "metadata": {},
     "output_type": "execute_result"
    }
   ],
   "source": [
    "integers"
   ]
  },
  {
   "cell_type": "code",
   "execution_count": 22,
   "id": "8ab0403f-1f99-464a-8ac1-5519d59a410c",
   "metadata": {},
   "outputs": [],
   "source": [
    "rand_array2=np.random.randint(10,101,(4,5))"
   ]
  },
  {
   "cell_type": "code",
   "execution_count": 23,
   "id": "f5f2450c-fbd7-4cc0-a7a0-5583e17b29a4",
   "metadata": {},
   "outputs": [
    {
     "data": {
      "text/plain": [
       "array([[ 8875, 17225, 14019, 17220, 10296],\n",
       "       [10030, 18020, 15099, 18076,  9603],\n",
       "       [10826, 16457, 14430, 16706, 11626],\n",
       "       [ 9945, 15569, 13392, 16108, 11849],\n",
       "       [ 9016, 18996, 14965, 19618, 11015]], dtype=int32)"
      ]
     },
     "execution_count": 23,
     "metadata": {},
     "output_type": "execute_result"
    }
   ],
   "source": [
    "np.matmul(rand_array,rand_array2)"
   ]
  },
  {
   "cell_type": "code",
   "execution_count": 24,
   "id": "dc5e7067-e9ff-4a70-87f9-a6a1cde8e96c",
   "metadata": {},
   "outputs": [
    {
     "data": {
      "text/plain": [
       "array([ 8, 37, 20,  7, 97, 35, 23, 26, 84, 13, 66, 19, 17, 73, 60, 42, 92,\n",
       "       76, 49,  5, 42, 82, 72,  7, 76, 52, 54, 55, 13, 27, 20,  4, 19,  3,\n",
       "       75, 33, 88, 80, 92, 95, 38, 88, 29, 32, 85, 95, 64, 96, 73, 84],\n",
       "      dtype=int32)"
      ]
     },
     "execution_count": 24,
     "metadata": {},
     "output_type": "execute_result"
    }
   ],
   "source": [
    "array50=np.random.randint(0,101,(50,))\n",
    "array50"
   ]
  },
  {
   "cell_type": "code",
   "execution_count": 25,
   "id": "7bf0f54c-cff9-4dcc-ab66-6b21733eb4a9",
   "metadata": {},
   "outputs": [
    {
     "data": {
      "text/plain": [
       "array([97, 84, 66, 73, 60, 92, 76, 82, 72, 76, 52, 54, 55, 75, 88, 80, 92,\n",
       "       95, 88, 85, 95, 64, 96, 73, 84], dtype=int32)"
      ]
     },
     "execution_count": 25,
     "metadata": {},
     "output_type": "execute_result"
    }
   ],
   "source": [
    "array50[array50>50]"
   ]
  },
  {
   "cell_type": "code",
   "execution_count": 26,
   "id": "2bbbe007-2f14-4560-8cfa-b3897b521e55",
   "metadata": {},
   "outputs": [
    {
     "data": {
      "text/plain": [
       "array([20, 84, 60, 42, 54, 19, 92, 85], dtype=int32)"
      ]
     },
     "execution_count": 26,
     "metadata": {},
     "output_type": "execute_result"
    }
   ],
   "source": [
    "array50[range(2,50,6)]"
   ]
  },
  {
   "cell_type": "code",
   "execution_count": 27,
   "id": "4c2570af-e114-4eb2-be42-44352db081b0",
   "metadata": {},
   "outputs": [
    {
     "data": {
      "text/plain": [
       "array([37, 35, 84, 55, 95, 64], dtype=int32)"
      ]
     },
     "execution_count": 27,
     "metadata": {},
     "output_type": "execute_result"
    }
   ],
   "source": [
    "array50[[1,5,8,27,39,46]]"
   ]
  },
  {
   "cell_type": "code",
   "execution_count": 28,
   "id": "c5aa47c2-cf76-42a7-ae14-55ed1fb1e855",
   "metadata": {},
   "outputs": [
    {
     "data": {
      "text/plain": [
       "array([[33, 61, 66, 76],\n",
       "       [42, 99, 42, 64],\n",
       "       [83, 49, 45, 71],\n",
       "       [79, 34, 60, 60],\n",
       "       [24, 87, 86, 50]], dtype=int32)"
      ]
     },
     "execution_count": 28,
     "metadata": {},
     "output_type": "execute_result"
    }
   ],
   "source": [
    "rand_array"
   ]
  },
  {
   "cell_type": "code",
   "execution_count": 29,
   "id": "72a22ecb-393e-48e1-a5fd-e4e51349c2d8",
   "metadata": {},
   "outputs": [
    {
     "data": {
      "text/plain": [
       "array([52.2, 66. , 59.8, 64.2])"
      ]
     },
     "execution_count": 29,
     "metadata": {},
     "output_type": "execute_result"
    }
   ],
   "source": [
    "rand_array.mean(axis=0)"
   ]
  },
  {
   "cell_type": "code",
   "execution_count": 30,
   "id": "a3d74510-7be8-4716-a1c7-69ab883d7208",
   "metadata": {},
   "outputs": [
    {
     "data": {
      "text/plain": [
       "array([83, 99, 86, 76], dtype=int32)"
      ]
     },
     "execution_count": 30,
     "metadata": {},
     "output_type": "execute_result"
    }
   ],
   "source": [
    "rand_array.max(axis=0)"
   ]
  },
  {
   "cell_type": "code",
   "execution_count": 31,
   "id": "91acae6e-9466-4d15-9199-b0265409de43",
   "metadata": {},
   "outputs": [
    {
     "data": {
      "text/plain": [
       "array([261, 330, 299, 321])"
      ]
     },
     "execution_count": 31,
     "metadata": {},
     "output_type": "execute_result"
    }
   ],
   "source": [
    "rand_array.sum(axis=0)"
   ]
  },
  {
   "cell_type": "code",
   "execution_count": 32,
   "id": "b2dbef49-116e-4bca-a557-6484c7ba4150",
   "metadata": {},
   "outputs": [
    {
     "name": "stdout",
     "output_type": "stream",
     "text": [
      "1\n",
      "1\n",
      "2\n",
      "3\n",
      "5\n",
      "8\n",
      "13\n",
      "21\n",
      "34\n",
      "55\n",
      "89\n"
     ]
    }
   ],
   "source": [
    "a=1\n",
    "b=0\n",
    "while(a<100):\n",
    "    print(a)\n",
    "    c=a+b\n",
    "    b=a\n",
    "    a=c"
   ]
  },
  {
   "cell_type": "code",
   "execution_count": 33,
   "id": "10a624c7-c8dd-45a2-8c9e-9bd41fd3cb98",
   "metadata": {},
   "outputs": [
    {
     "name": "stdout",
     "output_type": "stream",
     "text": [
      "Fizz\n",
      "Buzz\n",
      "Fizz\n",
      "Fizz\n",
      "Buzz\n",
      "Fizz\n",
      "FizzBuzz\n",
      "Fizz\n",
      "Buzz\n",
      "Fizz\n",
      "Fizz\n",
      "Buzz\n",
      "Fizz\n",
      "FizzBuzz\n",
      "Fizz\n",
      "Buzz\n",
      "Fizz\n",
      "Fizz\n",
      "Buzz\n",
      "Fizz\n",
      "FizzBuzz\n",
      "Fizz\n",
      "Buzz\n"
     ]
    }
   ],
   "source": [
    "for i in range(1,51):\n",
    "    if i%3==0 and i%5==0:\n",
    "        print(\"FizzBuzz\")\n",
    "    elif i%3==0:\n",
    "        print(\"Fizz\")\n",
    "    elif i%5==0:\n",
    "        print(\"Buzz\")"
   ]
  },
  {
   "cell_type": "code",
   "execution_count": 34,
   "id": "2c57e1d7-b3e8-43e0-a3b6-866da6d57f63",
   "metadata": {},
   "outputs": [],
   "source": [
    "def med(*values):\n",
    "    lis=list(values)\n",
    "    lis.sort()\n",
    "    length=len(lis)\n",
    "    if length%2==1:\n",
    "        return lis[(length-1)//2]\n",
    "    else:\n",
    "        return (lis[length//2-1]+lis[length//2])/2"
   ]
  },
  {
   "cell_type": "code",
   "execution_count": 35,
   "id": "e2158be3-f9d3-4182-b3bd-5790177602bc",
   "metadata": {},
   "outputs": [
    {
     "data": {
      "text/plain": [
       "4"
      ]
     },
     "execution_count": 35,
     "metadata": {},
     "output_type": "execute_result"
    }
   ],
   "source": [
    "med(1,9,8,2,3,4,5)"
   ]
  },
  {
   "cell_type": "code",
   "execution_count": 36,
   "id": "64b49ccf-2b8c-4ef3-a515-abccb1182ec9",
   "metadata": {},
   "outputs": [
    {
     "data": {
      "text/plain": [
       "3.5"
      ]
     },
     "execution_count": 36,
     "metadata": {},
     "output_type": "execute_result"
    }
   ],
   "source": [
    "med(1,9,8,2,3,4,5,0)"
   ]
  },
  {
   "cell_type": "code",
   "execution_count": 37,
   "id": "896449d5-3bf0-4e94-9179-7aecd0be70ef",
   "metadata": {},
   "outputs": [],
   "source": [
    "def mean(*values):\n",
    "    length=len(values)\n",
    "    sum=0\n",
    "    for i in values:\n",
    "        sum+=i\n",
    "    return sum/length"
   ]
  },
  {
   "cell_type": "code",
   "execution_count": 38,
   "id": "18d841f9-9496-4e14-bccd-839e2f78a24f",
   "metadata": {},
   "outputs": [
    {
     "data": {
      "text/plain": [
       "4.571428571428571"
      ]
     },
     "execution_count": 38,
     "metadata": {},
     "output_type": "execute_result"
    }
   ],
   "source": [
    "mean(1,9,8,2,3,4,5)"
   ]
  },
  {
   "cell_type": "code",
   "execution_count": 39,
   "id": "fac9c20a-65c0-4f2c-83a0-09a99d2d1c51",
   "metadata": {},
   "outputs": [],
   "source": [
    "def divide_numbers(num1, num2):\n",
    "    try:\n",
    "        result = num1 / num2\n",
    "    except ZeroDivisionError:\n",
    "        print(\"Error: Division by zero is not allowed.\")\n",
    "    else:\n",
    "        return result"
   ]
  },
  {
   "cell_type": "code",
   "execution_count": 40,
   "id": "b3cb8555-3a5a-4da4-80ef-3b12bdb594a7",
   "metadata": {},
   "outputs": [
    {
     "data": {
      "text/plain": [
       "5.0"
      ]
     },
     "execution_count": 40,
     "metadata": {},
     "output_type": "execute_result"
    }
   ],
   "source": [
    "divide_numbers(15,3)"
   ]
  },
  {
   "cell_type": "code",
   "execution_count": 41,
   "id": "5729741a-cf48-4f4d-b9f0-ef1cd475fc1c",
   "metadata": {},
   "outputs": [
    {
     "name": "stdout",
     "output_type": "stream",
     "text": [
      "Error: Division by zero is not allowed.\n"
     ]
    }
   ],
   "source": [
    "divide_numbers(4,0)"
   ]
  },
  {
   "cell_type": "code",
   "execution_count": 42,
   "id": "5de7a28e-ce48-47e6-b6c8-865007479a91",
   "metadata": {},
   "outputs": [],
   "source": [
    "array3d=np.random.randint(1,11,(3,4,5))"
   ]
  },
  {
   "cell_type": "code",
   "execution_count": 43,
   "id": "5f6782db-d691-4808-ac6f-c4b93f8469c4",
   "metadata": {},
   "outputs": [
    {
     "data": {
      "text/plain": [
       "array([[[ 1,  2,  9,  4, 10],\n",
       "        [ 5,  2,  5,  9, 10],\n",
       "        [ 5,  2,  9,  3,  1],\n",
       "        [ 6,  1, 10,  9,  6]],\n",
       "\n",
       "       [[ 4,  5,  4,  9,  6],\n",
       "        [ 4,  1,  9,  1,  7],\n",
       "        [ 4,  3,  6,  5,  6],\n",
       "        [10,  9,  3,  8,  3]],\n",
       "\n",
       "       [[10,  3,  2,  3, 10],\n",
       "        [ 4,  6,  9,  2,  6],\n",
       "        [ 5,  2,  9,  6, 10],\n",
       "        [ 2,  2,  6,  2,  1]]], dtype=int32)"
      ]
     },
     "execution_count": 43,
     "metadata": {},
     "output_type": "execute_result"
    }
   ],
   "source": [
    "array3d"
   ]
  },
  {
   "cell_type": "code",
   "execution_count": 44,
   "id": "170a5c0b-086e-407d-b26a-d95b1a4984e4",
   "metadata": {},
   "outputs": [],
   "source": [
    "array3d=np.swapaxes(array3d, 1, 2)"
   ]
  },
  {
   "cell_type": "code",
   "execution_count": 45,
   "id": "a0364618-cf2f-4085-9f8d-a21afe383f26",
   "metadata": {},
   "outputs": [
    {
     "data": {
      "text/plain": [
       "array([[[ 1,  5,  5,  6],\n",
       "        [ 2,  2,  2,  1],\n",
       "        [ 9,  5,  9, 10],\n",
       "        [ 4,  9,  3,  9],\n",
       "        [10, 10,  1,  6]],\n",
       "\n",
       "       [[ 4,  4,  4, 10],\n",
       "        [ 5,  1,  3,  9],\n",
       "        [ 4,  9,  6,  3],\n",
       "        [ 9,  1,  5,  8],\n",
       "        [ 6,  7,  6,  3]],\n",
       "\n",
       "       [[10,  4,  5,  2],\n",
       "        [ 3,  6,  2,  2],\n",
       "        [ 2,  9,  9,  6],\n",
       "        [ 3,  2,  6,  2],\n",
       "        [10,  6, 10,  1]]], dtype=int32)"
      ]
     },
     "execution_count": 45,
     "metadata": {},
     "output_type": "execute_result"
    }
   ],
   "source": [
    "array3d"
   ]
  },
  {
   "cell_type": "code",
   "execution_count": 46,
   "id": "16c7b340-57c9-49f6-97d2-1b6b917f1065",
   "metadata": {},
   "outputs": [
    {
     "data": {
      "text/plain": [
       "array([[15, 13, 14, 18],\n",
       "       [10,  9,  7, 12],\n",
       "       [15, 23, 24, 19],\n",
       "       [16, 12, 14, 19],\n",
       "       [26, 23, 17, 10]])"
      ]
     },
     "execution_count": 46,
     "metadata": {},
     "output_type": "execute_result"
    }
   ],
   "source": [
    "array3d.sum(axis=0)"
   ]
  },
  {
   "cell_type": "code",
   "execution_count": 47,
   "id": "68e75090-8352-4e8d-a22d-ea1edecda098",
   "metadata": {},
   "outputs": [
    {
     "data": {
      "text/plain": [
       "array([[26, 31, 20, 32],\n",
       "       [28, 22, 24, 33],\n",
       "       [28, 27, 32, 13]])"
      ]
     },
     "execution_count": 47,
     "metadata": {},
     "output_type": "execute_result"
    }
   ],
   "source": [
    "array3d.sum(axis=1)"
   ]
  },
  {
   "cell_type": "code",
   "execution_count": 48,
   "id": "cbde14d0-ca0a-4ee6-8b17-ca701ab0bf96",
   "metadata": {},
   "outputs": [
    {
     "data": {
      "text/plain": [
       "array([[17,  7, 33, 25, 27],\n",
       "       [22, 18, 22, 23, 22],\n",
       "       [21, 13, 26, 13, 27]])"
      ]
     },
     "execution_count": 48,
     "metadata": {},
     "output_type": "execute_result"
    }
   ],
   "source": [
    "array3d.sum(axis=2)"
   ]
  },
  {
   "cell_type": "code",
   "execution_count": 49,
   "id": "2ef3aa62-49c4-4082-99eb-0504734cb54b",
   "metadata": {},
   "outputs": [],
   "source": [
    "vector=np.random.randint(1,11,(4,))"
   ]
  },
  {
   "cell_type": "code",
   "execution_count": 50,
   "id": "4d5d61a8-733b-4241-b4b8-004fa1b00836",
   "metadata": {},
   "outputs": [
    {
     "data": {
      "text/plain": [
       "array([5, 1, 8, 1], dtype=int32)"
      ]
     },
     "execution_count": 50,
     "metadata": {},
     "output_type": "execute_result"
    }
   ],
   "source": [
    "vector"
   ]
  },
  {
   "cell_type": "code",
   "execution_count": 51,
   "id": "86c997b6-5153-47db-9e4f-6bc085585cde",
   "metadata": {},
   "outputs": [],
   "source": [
    "array3d+=vector"
   ]
  },
  {
   "cell_type": "code",
   "execution_count": 52,
   "id": "5bfae45c-a6da-4ed7-a0fc-ae5f94cf9858",
   "metadata": {},
   "outputs": [
    {
     "data": {
      "text/plain": [
       "array([[[ 6,  6, 13,  7],\n",
       "        [ 7,  3, 10,  2],\n",
       "        [14,  6, 17, 11],\n",
       "        [ 9, 10, 11, 10],\n",
       "        [15, 11,  9,  7]],\n",
       "\n",
       "       [[ 9,  5, 12, 11],\n",
       "        [10,  2, 11, 10],\n",
       "        [ 9, 10, 14,  4],\n",
       "        [14,  2, 13,  9],\n",
       "        [11,  8, 14,  4]],\n",
       "\n",
       "       [[15,  5, 13,  3],\n",
       "        [ 8,  7, 10,  3],\n",
       "        [ 7, 10, 17,  7],\n",
       "        [ 8,  3, 14,  3],\n",
       "        [15,  7, 18,  2]]], dtype=int32)"
      ]
     },
     "execution_count": 52,
     "metadata": {},
     "output_type": "execute_result"
    }
   ],
   "source": [
    "array3d"
   ]
  }
 ],
 "metadata": {
  "kernelspec": {
   "display_name": "Python 3 (ipykernel)",
   "language": "python",
   "name": "python3"
  },
  "language_info": {
   "codemirror_mode": {
    "name": "ipython",
    "version": 3
   },
   "file_extension": ".py",
   "mimetype": "text/x-python",
   "name": "python",
   "nbconvert_exporter": "python",
   "pygments_lexer": "ipython3",
   "version": "3.13.0"
  }
 },
 "nbformat": 4,
 "nbformat_minor": 5
}

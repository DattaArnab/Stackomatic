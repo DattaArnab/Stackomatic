{
 "cells": [
  {
   "cell_type": "code",
   "execution_count": 2,
   "id": "a50d49f9-d20e-4f14-948b-63082c7c019a",
   "metadata": {},
   "outputs": [
    {
     "name": "stdout",
     "output_type": "stream",
     "text": [
      "1\n",
      "1\n",
      "2\n",
      "3\n",
      "5\n",
      "8\n",
      "13\n",
      "21\n",
      "34\n",
      "55\n",
      "89\n"
     ]
    }
   ],
   "source": [
    "a=1\n",
    "b=0\n",
    "while(a<100):\n",
    "    print(a)\n",
    "    c=a+b\n",
    "    b=a\n",
    "    a=c"
   ]
  },
  {
   "cell_type": "code",
   "execution_count": 4,
   "id": "c224b118-0103-4f14-bbb6-c177d236174b",
   "metadata": {},
   "outputs": [
    {
     "name": "stdout",
     "output_type": "stream",
     "text": [
      "Fizz\n",
      "Buzz\n",
      "Fizz\n",
      "Fizz\n",
      "Buzz\n",
      "Fizz\n",
      "FizzBuzz\n",
      "Fizz\n",
      "Buzz\n",
      "Fizz\n",
      "Fizz\n",
      "Buzz\n",
      "Fizz\n",
      "FizzBuzz\n",
      "Fizz\n",
      "Buzz\n",
      "Fizz\n",
      "Fizz\n",
      "Buzz\n",
      "Fizz\n",
      "FizzBuzz\n",
      "Fizz\n",
      "Buzz\n"
     ]
    }
   ],
   "source": [
    "for i in range(1,51):\n",
    "    if i%3==0 and i%5==0:\n",
    "        print(\"FizzBuzz\")\n",
    "    elif i%3==0:\n",
    "        print(\"Fizz\")\n",
    "    elif i%5==0:\n",
    "        print(\"Buzz\")"
   ]
  },
  {
   "cell_type": "code",
   "execution_count": 12,
   "id": "98bc50b7-edc8-48af-8123-a08e6244c564",
   "metadata": {},
   "outputs": [],
   "source": [
    "def med(*values):\n",
    "    lis=list(values)\n",
    "    lis.sort()\n",
    "    length=len(lis)\n",
    "    if length%2==1:\n",
    "        return lis[(length-1)//2]\n",
    "    else:\n",
    "        return (lis[length//2-1]+lis[length//2])/2"
   ]
  },
  {
   "cell_type": "code",
   "execution_count": 16,
   "id": "461d2c3a-51dc-4764-a8d5-c5d8c854ed19",
   "metadata": {},
   "outputs": [
    {
     "data": {
      "text/plain": [
       "4"
      ]
     },
     "execution_count": 16,
     "metadata": {},
     "output_type": "execute_result"
    }
   ],
   "source": [
    "med(1,9,8,2,3,4,5)"
   ]
  },
  {
   "cell_type": "code",
   "execution_count": 17,
   "id": "268d1e83-f6e9-4fb6-8b56-3d84bbf858dc",
   "metadata": {},
   "outputs": [
    {
     "data": {
      "text/plain": [
       "3.5"
      ]
     },
     "execution_count": 17,
     "metadata": {},
     "output_type": "execute_result"
    }
   ],
   "source": [
    "med(1,9,8,2,3,4,5,0)"
   ]
  },
  {
   "cell_type": "code",
   "execution_count": 18,
   "id": "2cda6417-75ca-4eae-9a9c-67a6eb2bc5b2",
   "metadata": {},
   "outputs": [],
   "source": [
    "def mean(*values):\n",
    "    length=len(values)\n",
    "    sum=0\n",
    "    for i in values:\n",
    "        sum+=i\n",
    "    return sum/length"
   ]
  },
  {
   "cell_type": "code",
   "execution_count": 19,
   "id": "cbda225f-de31-4233-9558-b57f6dce233a",
   "metadata": {},
   "outputs": [
    {
     "data": {
      "text/plain": [
       "4.571428571428571"
      ]
     },
     "execution_count": 19,
     "metadata": {},
     "output_type": "execute_result"
    }
   ],
   "source": [
    "mean(1,9,8,2,3,4,5)"
   ]
  },
  {
   "cell_type": "code",
   "execution_count": 20,
   "id": "c4afc058-424b-41b7-bdbc-ffcb1f9277e1",
   "metadata": {},
   "outputs": [],
   "source": [
    "def divide_numbers(num1, num2):\n",
    "    try:\n",
    "        result = num1 / num2\n",
    "    except ZeroDivisionError:\n",
    "        print(\"Error: Division by zero is not allowed.\")\n",
    "    else:\n",
    "        return result"
   ]
  },
  {
   "cell_type": "code",
   "execution_count": 21,
   "id": "016ad326-5219-462d-a459-635fba628d58",
   "metadata": {},
   "outputs": [
    {
     "data": {
      "text/plain": [
       "5.0"
      ]
     },
     "execution_count": 21,
     "metadata": {},
     "output_type": "execute_result"
    }
   ],
   "source": [
    "divide_numbers(15,3)"
   ]
  },
  {
   "cell_type": "code",
   "execution_count": 22,
   "id": "9a42d192-af55-43ea-b087-129f668c884b",
   "metadata": {},
   "outputs": [
    {
     "name": "stdout",
     "output_type": "stream",
     "text": [
      "Error: Division by zero is not allowed.\n"
     ]
    }
   ],
   "source": [
    "divide_numbers(4,0)"
   ]
  },
  {
   "cell_type": "code",
   "execution_count": null,
   "id": "c6adf1b0-847c-43c8-b854-30a6c458210a",
   "metadata": {},
   "outputs": [],
   "source": []
  }
 ],
 "metadata": {
  "kernelspec": {
   "display_name": "Python 3 (ipykernel)",
   "language": "python",
   "name": "python3"
  },
  "language_info": {
   "codemirror_mode": {
    "name": "ipython",
    "version": 3
   },
   "file_extension": ".py",
   "mimetype": "text/x-python",
   "name": "python",
   "nbconvert_exporter": "python",
   "pygments_lexer": "ipython3",
   "version": "3.13.0"
  }
 },
 "nbformat": 4,
 "nbformat_minor": 5
}

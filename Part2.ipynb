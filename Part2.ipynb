{
 "cells": [
  {
   "cell_type": "code",
   "execution_count": 3,
   "id": "959e0251-808f-4274-aee7-fb9c871b17dc",
   "metadata": {},
   "outputs": [],
   "source": [
    "import numpy as np"
   ]
  },
  {
   "cell_type": "code",
   "execution_count": 5,
   "id": "3ccc6d63-e1cb-4551-9322-ae82093787af",
   "metadata": {},
   "outputs": [],
   "source": [
    "integers = np.arange(1,21)"
   ]
  },
  {
   "cell_type": "code",
   "execution_count": 6,
   "id": "fdaf6e6f-2213-43e0-8555-05d373970088",
   "metadata": {},
   "outputs": [
    {
     "data": {
      "text/plain": [
       "array([ 1,  2,  3,  4,  5,  6,  7,  8,  9, 10, 11, 12, 13, 14, 15, 16, 17,\n",
       "       18, 19, 20])"
      ]
     },
     "execution_count": 6,
     "metadata": {},
     "output_type": "execute_result"
    }
   ],
   "source": [
    "integers"
   ]
  },
  {
   "cell_type": "code",
   "execution_count": 7,
   "id": "848fd348-a8ca-491e-8e27-50791b4feaa5",
   "metadata": {},
   "outputs": [],
   "source": [
    "even_no=integers[1: : 2]"
   ]
  },
  {
   "cell_type": "code",
   "execution_count": 8,
   "id": "1bda1a4c-9c97-4f21-bee0-5155e37db9ff",
   "metadata": {},
   "outputs": [
    {
     "data": {
      "text/plain": [
       "array([ 2,  4,  6,  8, 10, 12, 14, 16, 18, 20])"
      ]
     },
     "execution_count": 8,
     "metadata": {},
     "output_type": "execute_result"
    }
   ],
   "source": [
    "even_no"
   ]
  },
  {
   "cell_type": "code",
   "execution_count": 9,
   "id": "54f99a20-cf2e-499e-ae4a-a32ea57b4084",
   "metadata": {},
   "outputs": [],
   "source": [
    "rand_array=np.random.randint(10,101,(5,4))"
   ]
  },
  {
   "cell_type": "code",
   "execution_count": 10,
   "id": "6075844c-4223-438b-88fe-f99de7a3cd3f",
   "metadata": {},
   "outputs": [
    {
     "data": {
      "text/plain": [
       "array([[82, 70, 23, 75],\n",
       "       [82, 74, 85, 81],\n",
       "       [60, 78, 68, 93],\n",
       "       [59, 54, 85, 33],\n",
       "       [63, 87, 52, 95]], dtype=int32)"
      ]
     },
     "execution_count": 10,
     "metadata": {},
     "output_type": "execute_result"
    }
   ],
   "source": [
    "rand_array"
   ]
  },
  {
   "cell_type": "code",
   "execution_count": 12,
   "id": "ca4a575a-4502-4e07-8340-bcf396df2e8e",
   "metadata": {},
   "outputs": [
    {
     "data": {
      "text/plain": [
       "array([[82, 70],\n",
       "       [82, 74],\n",
       "       [60, 78]], dtype=int32)"
      ]
     },
     "execution_count": 12,
     "metadata": {},
     "output_type": "execute_result"
    }
   ],
   "source": [
    "rand_array[:3,:2]"
   ]
  },
  {
   "cell_type": "code",
   "execution_count": 13,
   "id": "e1a83adc-2941-49be-9019-a072a354c867",
   "metadata": {},
   "outputs": [],
   "source": [
    "integers.resize(4,5)"
   ]
  },
  {
   "cell_type": "code",
   "execution_count": 14,
   "id": "e14ad2f8-28d2-45bf-9c30-6adab730ffcb",
   "metadata": {},
   "outputs": [
    {
     "data": {
      "text/plain": [
       "array([[ 1,  2,  3,  4,  5],\n",
       "       [ 6,  7,  8,  9, 10],\n",
       "       [11, 12, 13, 14, 15],\n",
       "       [16, 17, 18, 19, 20]])"
      ]
     },
     "execution_count": 14,
     "metadata": {},
     "output_type": "execute_result"
    }
   ],
   "source": [
    "integers"
   ]
  },
  {
   "cell_type": "code",
   "execution_count": 17,
   "id": "6c3f49d3-ddc9-471a-ac30-6651b0718de3",
   "metadata": {},
   "outputs": [],
   "source": [
    "integers=integers.flatten()"
   ]
  },
  {
   "cell_type": "code",
   "execution_count": 18,
   "id": "981dd555-e384-45ac-904f-482acbaa6365",
   "metadata": {},
   "outputs": [
    {
     "data": {
      "text/plain": [
       "array([ 1,  2,  3,  4,  5,  6,  7,  8,  9, 10, 11, 12, 13, 14, 15, 16, 17,\n",
       "       18, 19, 20])"
      ]
     },
     "execution_count": 18,
     "metadata": {},
     "output_type": "execute_result"
    }
   ],
   "source": [
    "integers"
   ]
  },
  {
   "cell_type": "code",
   "execution_count": 19,
   "id": "8ab0403f-1f99-464a-8ac1-5519d59a410c",
   "metadata": {},
   "outputs": [],
   "source": [
    "rand_array2=np.random.randint(10,101,(4,5))"
   ]
  },
  {
   "cell_type": "code",
   "execution_count": 20,
   "id": "f5f2450c-fbd7-4cc0-a7a0-5583e17b29a4",
   "metadata": {},
   "outputs": [
    {
     "data": {
      "text/plain": [
       "array([[14087, 18204, 11107, 13943, 12293],\n",
       "       [15277, 24020, 16421, 18709, 18775],\n",
       "       [13881, 22623, 14515, 15849, 17018],\n",
       "       [11019, 17330, 12812, 14469, 14959],\n",
       "       [14777, 22402, 13759, 15331, 16213]], dtype=int32)"
      ]
     },
     "execution_count": 20,
     "metadata": {},
     "output_type": "execute_result"
    }
   ],
   "source": [
    "np.matmul(rand_array,rand_array2)"
   ]
  },
  {
   "cell_type": "code",
   "execution_count": 29,
   "id": "dc5e7067-e9ff-4a70-87f9-a6a1cde8e96c",
   "metadata": {},
   "outputs": [
    {
     "data": {
      "text/plain": [
       "array([79, 93, 27, 53, 44, 34,  0, 74, 22, 81, 18, 25, 93, 44,  6, 74, 29,\n",
       "       17, 41, 84, 41, 29, 57, 26, 94, 18, 24, 75, 12, 23, 71, 36, 51, 26,\n",
       "       36, 69, 93, 10, 12, 20, 87, 43, 23, 71,  7, 89, 29, 35, 13, 27],\n",
       "      dtype=int32)"
      ]
     },
     "execution_count": 29,
     "metadata": {},
     "output_type": "execute_result"
    }
   ],
   "source": [
    "array50=np.random.randint(0,101,(50,))\n",
    "array50"
   ]
  },
  {
   "cell_type": "code",
   "execution_count": 30,
   "id": "7bf0f54c-cff9-4dcc-ab66-6b21733eb4a9",
   "metadata": {},
   "outputs": [
    {
     "data": {
      "text/plain": [
       "array([79, 93, 53, 74, 81, 93, 74, 84, 57, 94, 75, 71, 51, 69, 93, 87, 71,\n",
       "       89], dtype=int32)"
      ]
     },
     "execution_count": 30,
     "metadata": {},
     "output_type": "execute_result"
    }
   ],
   "source": [
    "array50[array50>50]"
   ]
  },
  {
   "cell_type": "code",
   "execution_count": 31,
   "id": "2bbbe007-2f14-4560-8cfa-b3897b521e55",
   "metadata": {},
   "outputs": [
    {
     "data": {
      "text/plain": [
       "array([27, 22,  6, 41, 24, 51, 12,  7], dtype=int32)"
      ]
     },
     "execution_count": 31,
     "metadata": {},
     "output_type": "execute_result"
    }
   ],
   "source": [
    "array50[range(2,50,6)]"
   ]
  },
  {
   "cell_type": "code",
   "execution_count": 32,
   "id": "4c2570af-e114-4eb2-be42-44352db081b0",
   "metadata": {},
   "outputs": [
    {
     "data": {
      "text/plain": [
       "array([93, 34, 22, 75, 20, 29], dtype=int32)"
      ]
     },
     "execution_count": 32,
     "metadata": {},
     "output_type": "execute_result"
    }
   ],
   "source": [
    "array50[[1,5,8,27,39,46]]"
   ]
  },
  {
   "cell_type": "code",
   "execution_count": 33,
   "id": "c5aa47c2-cf76-42a7-ae14-55ed1fb1e855",
   "metadata": {},
   "outputs": [
    {
     "data": {
      "text/plain": [
       "array([[82, 70, 23, 75],\n",
       "       [82, 74, 85, 81],\n",
       "       [60, 78, 68, 93],\n",
       "       [59, 54, 85, 33],\n",
       "       [63, 87, 52, 95]], dtype=int32)"
      ]
     },
     "execution_count": 33,
     "metadata": {},
     "output_type": "execute_result"
    }
   ],
   "source": [
    "rand_array"
   ]
  },
  {
   "cell_type": "code",
   "execution_count": 35,
   "id": "72a22ecb-393e-48e1-a5fd-e4e51349c2d8",
   "metadata": {},
   "outputs": [
    {
     "data": {
      "text/plain": [
       "array([69.2, 72.6, 62.6, 75.4])"
      ]
     },
     "execution_count": 35,
     "metadata": {},
     "output_type": "execute_result"
    }
   ],
   "source": [
    "rand_array.mean(axis=0)"
   ]
  },
  {
   "cell_type": "code",
   "execution_count": 36,
   "id": "a3d74510-7be8-4716-a1c7-69ab883d7208",
   "metadata": {},
   "outputs": [
    {
     "data": {
      "text/plain": [
       "array([82, 87, 85, 95], dtype=int32)"
      ]
     },
     "execution_count": 36,
     "metadata": {},
     "output_type": "execute_result"
    }
   ],
   "source": [
    "rand_array.max(axis=0)"
   ]
  },
  {
   "cell_type": "code",
   "execution_count": 37,
   "id": "91acae6e-9466-4d15-9199-b0265409de43",
   "metadata": {},
   "outputs": [
    {
     "data": {
      "text/plain": [
       "array([346, 363, 313, 377])"
      ]
     },
     "execution_count": 37,
     "metadata": {},
     "output_type": "execute_result"
    }
   ],
   "source": [
    "rand_array.sum(axis=0)"
   ]
  },
  {
   "cell_type": "code",
   "execution_count": null,
   "id": "b2dbef49-116e-4bca-a557-6484c7ba4150",
   "metadata": {},
   "outputs": [],
   "source": []
  }
 ],
 "metadata": {
  "kernelspec": {
   "display_name": "Python 3 (ipykernel)",
   "language": "python",
   "name": "python3"
  },
  "language_info": {
   "codemirror_mode": {
    "name": "ipython",
    "version": 3
   },
   "file_extension": ".py",
   "mimetype": "text/x-python",
   "name": "python",
   "nbconvert_exporter": "python",
   "pygments_lexer": "ipython3",
   "version": "3.13.0"
  }
 },
 "nbformat": 4,
 "nbformat_minor": 5
}
